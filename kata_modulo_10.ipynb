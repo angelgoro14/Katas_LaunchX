{
 "cells": [
  {
   "cell_type": "markdown",
   "metadata": {},
   "source": [
    "# Tracebacks"
   ]
  },
  {
   "cell_type": "code",
   "execution_count": null,
   "metadata": {},
   "outputs": [],
   "source": [
    "# Abrir un archivo inexistente\n",
    "try:\n",
    "    open(\"C:/Users/angel/Documents/ODISEA XX1/imagen.jpg\")\n",
    "except FileNotFoundError:\n",
    "    print('Error - No existe tal archivo o directorio')"
   ]
  },
  {
   "cell_type": "code",
   "execution_count": null,
   "metadata": {},
   "outputs": [],
   "source": [
    "# Función main que abre el archivo inexistente pero al final, esta función usa un asistente que indica al intérprete que ejecute \n",
    "# la función main() cuando se le llama en el terminal.\n",
    "def main():\n",
    "    open(\"C:/Users/angel/Documents/ODISEA XX1/imagen.jpg\")\n",
    "\n",
    "if __name__ == '__main__':\n",
    "    main()"
   ]
  },
  {
   "cell_type": "code",
   "execution_count": 4,
   "metadata": {},
   "outputs": [
    {
     "name": "stdout",
     "output_type": "stream",
     "text": [
      "Couldn't find the config.txt file!\n"
     ]
    }
   ],
   "source": [
    "# Los permisos de archivo no válidos pueden impedir la lectura de un archivo, incluso si este existe. \n",
    "# El siguiente archivo tiene código que busca y lee el archivo de configuración del sistema de navegación:\n",
    "def main():\n",
    "    try:\n",
    "        configura = open('C:/Users/angel/Documents/ODISEA XX1/imagen.jpg')\n",
    "    except Exception:\n",
    "        print(\"Couldn't find the config.txt file!\")\n",
    "\n",
    "if __name__ == '__main__':\n",
    "    main()"
   ]
  },
  {
   "cell_type": "code",
   "execution_count": null,
   "metadata": {},
   "outputs": [],
   "source": [
    "# Se hace la detección del error de \"FileNotFoundError\" y luego la de \"PermissionError\"\n",
    "\n",
    "def main():\n",
    "    try:\n",
    "        configura = open('C:/Users/angel/Documents/ODISEA XX1/imagen.jpg')\n",
    "    except FileNotFoundError:\n",
    "        print(\"Couldn't find the file!\")\n",
    "    except IsADirectoryError:\n",
    "        print(\"Found file but it is a directory, couldn't read it\")\n",
    "\n",
    "if __name__ == '__main__':\n",
    "    main()"
   ]
  },
  {
   "cell_type": "code",
   "execution_count": null,
   "metadata": {},
   "outputs": [],
   "source": [
    "# Cuando los errores son de naturaleza similar se pueden agrupar las excepciones como una, usando paréntesis en la línea except. \n",
    "def main():\n",
    "    try:\n",
    "        configuration = open('C:/Users/angel/Documents/ODISEA XX1/imagen.jpg')\n",
    "    except FileNotFoundError:\n",
    "        print(\"Couldn't find the config.txt file!\")\n",
    "    except IsADirectoryError:\n",
    "        print(\"Found config.txt but it is a directory, couldn't read it\")\n",
    "    except (BlockingIOError, TimeoutError):\n",
    "        print(\"Filesystem under heavy load, can't complete reading configuration file\")\n",
    "\n",
    "if __name__ == '__main__':\n",
    "    main()"
   ]
  },
  {
   "cell_type": "code",
   "execution_count": null,
   "metadata": {},
   "outputs": [],
   "source": [
    "# Si se desea acceder al error asociado a la excepción, se puede actualizar la línea except para incluir la palabra 'as'. \n",
    "try:\n",
    "    open(\"C:/Users/angel/Documents/ODISEA XX1/imagen.jpg\")\n",
    "except FileNotFoundError as err:\n",
    "    print(\"got a problem trying to read the file:\", err)"
   ]
  },
  {
   "cell_type": "code",
   "execution_count": null,
   "metadata": {},
   "outputs": [],
   "source": [
    "def water_left(astronauts, water_left, days_left):\n",
    "    for argument in [astronauts, water_left, days_left]:\n",
    "        try:\n",
    "            # If argument is an int, the following operation will work\n",
    "            argument / 10\n",
    "        except TypeError:\n",
    "            # TypError will be raised only if it isn't the right type \n",
    "            # Raise the same exception but with a better error message\n",
    "            raise TypeError(f\"All arguments must be of type int, but received: '{argument}'\")\n",
    "    daily_usage = astronauts * 11\n",
    "    total_usage = daily_usage * days_left\n",
    "    total_water_left = water_left - total_usage\n",
    "    if total_water_left < 0:\n",
    "        raise RuntimeError(f\"There is not enough water for {astronauts} astronauts after {days_left} days!\")\n",
    "    return f\"Total water left after {days_left} days is: {total_water_left} liters\"\n",
    "water_left(\"3\", \"200\", None)\n"
   ]
  },
  {
   "cell_type": "code",
   "execution_count": null,
   "metadata": {},
   "outputs": [],
   "source": []
  }
 ],
 "metadata": {
  "interpreter": {
   "hash": "2757f2c2fa6babad547f4a3642c7cf29f9f98149abb7990afbb40d637e41adc8"
  },
  "kernelspec": {
   "display_name": "Python 3.9.7 ('base')",
   "language": "python",
   "name": "python3"
  },
  "language_info": {
   "codemirror_mode": {
    "name": "ipython",
    "version": 3
   },
   "file_extension": ".py",
   "mimetype": "text/x-python",
   "name": "python",
   "nbconvert_exporter": "python",
   "pygments_lexer": "ipython3",
   "version": "3.9.7"
  },
  "orig_nbformat": 4
 },
 "nbformat": 4,
 "nbformat_minor": 2
}
