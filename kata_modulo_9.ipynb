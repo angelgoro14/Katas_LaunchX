{
 "cells": [
  {
   "cell_type": "markdown",
   "metadata": {},
   "source": [
    "# Ejercicio 1: Trabajar con argumentos en funciones\n"
   ]
  },
  {
   "cell_type": "code",
   "execution_count": 1,
   "metadata": {},
   "outputs": [
    {
     "name": "stdout",
     "output_type": "stream",
     "text": [
      "78.33333333333333\n"
     ]
    }
   ],
   "source": [
    "# Función para leer 3 tanques de combustible y muestre el promedio\n",
    "def combustible(tan_1, tan_2, tan_3):\n",
    "    prom = (tan_1 + tan_2 + tan_3) / 3\n",
    "    return prom\n",
    "\n",
    "# Llamamos a la función que genera el reporte print(funcion(tanque1, tanque2, tanque3))\n",
    "print(combustible(80, 70, 85))"
   ]
  },
  {
   "cell_type": "code",
   "execution_count": 5,
   "metadata": {},
   "outputs": [
    {
     "name": "stdout",
     "output_type": "stream",
     "text": [
      "4.0\n"
     ]
    }
   ],
   "source": [
    "# Función promedio\n",
    "def promedio(*valor):\n",
    "    suma = sum(valor)\n",
    "    valores = len(valor)\n",
    "    t = suma / valores\n",
    "    return t\n",
    "\n",
    "# Actualizando la informacion\n",
    "def combustible(a, b, c):\n",
    "    print(promedio(a, b, c))\n",
    "\n",
    "# Llamando a la funcion dentro de funcion\n",
    "combustible(5, 4, 3)"
   ]
  },
  {
   "cell_type": "markdown",
   "metadata": {},
   "source": [
    "# Ejercicio 2: Trabajo con argumentos de palabra clave\n"
   ]
  },
  {
   "cell_type": "code",
   "execution_count": 9,
   "metadata": {},
   "outputs": [
    {
     "name": "stdout",
     "output_type": "stream",
     "text": [
      "Mision a Acambay con un tiempo de vuelo de 7 segundos, contando con un tanque de 110 litros\n"
     ]
    }
   ],
   "source": [
    "# Función de la misión (Hora de prelanzamiento, tiempo de vuelo, destino, tanque externo y tanque interno)\n",
    "def mision(prelanzamiento, vuelo, destino, externo, interno):\n",
    "    print('Mision a', destino, 'con un tiempo de vuelo de', prelanzamiento + vuelo, 'segundos, contando con un tanque de', externo + interno, 'litros')\n",
    "\n",
    "mision(2, 5, 'Acambay', 10, 100)"
   ]
  },
  {
   "cell_type": "code",
   "execution_count": 18,
   "metadata": {},
   "outputs": [
    {
     "name": "stdout",
     "output_type": "stream",
     "text": [
      "Mision a Moon con un tiempo de vuelo de 76 segundos, contando con un tanque de {'main': 300000, 'external': 200000} litros\n"
     ]
    }
   ],
   "source": [
    "# Escribe tu nueva función de reporte considerando lo anterior\n",
    "def mision(destino, *vuelo, **tanque):\n",
    "    print('Mision a', destino, 'con un tiempo de vuelo de', sum(vuelo), 'segundos, contando con un tanque de', tanque, 'litros')\n",
    "\n",
    "mision(\"Moon\", 10, 15, 51, main=300000, external=200000)"
   ]
  },
  {
   "cell_type": "code",
   "execution_count": 35,
   "metadata": {},
   "outputs": [
    {
     "name": "stdout",
     "output_type": "stream",
     "text": [
      "Mission to Moon\n",
      "Total travel time: 74 minutes\n",
      "Total fuel left: 500000 \n",
      "main tank --> 300000 gallons left\n",
      "external tank --> 200000 gallons left\n",
      "\n"
     ]
    }
   ],
   "source": [
    "# Escribe tu nueva función\n",
    "\n",
    "def mision(destino, *vuelo, **tanque):\n",
    "    mision_1 = f\"\"\"Mission to {destino}\\nTotal travel time: {sum(vuelo)} minutes\\nTotal fuel left: {sum(tanque.values())} \\n\"\"\"\n",
    "    for tank_name, gallons in tanque.items():\n",
    "        mision_1 += f\"{tank_name} tank --> {gallons} gallons left\\n\"\n",
    "    return mision_1\n",
    "\n",
    "print(mision(\"Moon\", 8, 11, 55, main=300000, external=200000))"
   ]
  }
 ],
 "metadata": {
  "interpreter": {
   "hash": "2757f2c2fa6babad547f4a3642c7cf29f9f98149abb7990afbb40d637e41adc8"
  },
  "kernelspec": {
   "display_name": "Python 3.9.7 ('base')",
   "language": "python",
   "name": "python3"
  },
  "language_info": {
   "codemirror_mode": {
    "name": "ipython",
    "version": 3
   },
   "file_extension": ".py",
   "mimetype": "text/x-python",
   "name": "python",
   "nbconvert_exporter": "python",
   "pygments_lexer": "ipython3",
   "version": "3.9.7"
  },
  "orig_nbformat": 4
 },
 "nbformat": 4,
 "nbformat_minor": 2
}
