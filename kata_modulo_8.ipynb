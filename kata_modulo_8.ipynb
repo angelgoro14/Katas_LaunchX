{
 "cells": [
  {
   "cell_type": "markdown",
   "metadata": {},
   "source": [
    "# Ejercicio 1: Creación de diccionarios de Python\n"
   ]
  },
  {
   "cell_type": "code",
   "execution_count": 13,
   "metadata": {},
   "outputs": [
    {
     "name": "stdout",
     "output_type": "stream",
     "text": [
      "Planeta: Mars . Lunas: 2\n",
      "Planeta: Mars . Circunferencia Polar: 6752\n"
     ]
    }
   ],
   "source": [
    "# Agrega el código para un nuevo diccionario denominado 'planet' con la siguiente información: (name: Mars, moons: 2)\n",
    "planet = {'name': 'Mars', 'moons': 2}\n",
    "\n",
    "# Muestra el nombre del planeta y el número de lunas que tiene.\n",
    "print('Planeta:', planet['name'], '. Lunas:', planet['moons'])\n",
    "\n",
    "# Agrega un nuevo valor con una clave de 'circunferencia (km)'. \n",
    "# Este nuevo valor debería almacenar un diccionario con las dos circunferencias del planeta:\n",
    "# polar: 6752\n",
    "# equatorial: 6792\n",
    "planet['circunferencia (km)'] = {'polar': 6752, 'equatorial':6792}\n",
    "\n",
    "# Imprime el nombre del planeta con su circunferencia polar.\n",
    "print('Planeta:', planet['name'], '. Circunferencia Polar:', planet['circunferencia (km)']['polar']  )"
   ]
  },
  {
   "cell_type": "markdown",
   "metadata": {},
   "source": [
    "# Ejercicio 2: Programación dinámica con diccionarios"
   ]
  },
  {
   "cell_type": "code",
   "execution_count": 22,
   "metadata": {},
   "outputs": [
    {
     "name": "stdout",
     "output_type": "stream",
     "text": [
      "dict_values([0, 0, 1, 2, 79, 82, 27, 14, 5, 2, 1, 1])\n",
      "dict_keys(['mercury', 'venus', 'earth', 'mars', 'jupiter', 'saturn', 'uranus', 'neptune', 'pluto', 'haumea', 'makemake', 'eris'])\n",
      "Total de Lunas: 214\n",
      "Promedio de Lunas: 17.833333333333332\n"
     ]
    }
   ],
   "source": [
    "# Planets and moons\n",
    "planet_moons = {'mercury': 0, 'venus': 0, 'earth': 1, 'mars': 2, 'jupiter': 79, 'saturn': 82, 'uranus': 27, 'neptune': 14, 'pluto': 5, 'haumea': 2, 'makemake': 1, 'eris': 1}\n",
    "\n",
    "# Determina el número de lunas (Almacena el valor values de planet_moons en una variable denominada moons)\n",
    "moons = planet_moons.values()\n",
    "print(moons)\n",
    "\n",
    "# Almacena el número de planetas en una variable denominada planets.\n",
    "planets = planet_moons.keys()\n",
    "print(planets)\n",
    "\n",
    "# Cuenta el número de lunas\n",
    "# Puedes hacerlo creando un ciclo for para iterar a través de las lunas moons y agregándolos a una variable denominada total_moons. \n",
    "# Finalmente calcule el promedio dividiendo total_moons por planets e imprimiendo los resultados.\n",
    "total_moons = 0\n",
    "for i in moons:\n",
    "    total_moons += i\n",
    "print('Total de Lunas:', total_moons)\n",
    "print('Promedio de Lunas:', total_moons/len(planets))"
   ]
  }
 ],
 "metadata": {
  "interpreter": {
   "hash": "2757f2c2fa6babad547f4a3642c7cf29f9f98149abb7990afbb40d637e41adc8"
  },
  "kernelspec": {
   "display_name": "Python 3.9.7 ('base')",
   "language": "python",
   "name": "python3"
  },
  "language_info": {
   "codemirror_mode": {
    "name": "ipython",
    "version": 3
   },
   "file_extension": ".py",
   "mimetype": "text/x-python",
   "name": "python",
   "nbconvert_exporter": "python",
   "pygments_lexer": "ipython3",
   "version": "3.9.7"
  },
  "orig_nbformat": 4
 },
 "nbformat": 4,
 "nbformat_minor": 2
}
