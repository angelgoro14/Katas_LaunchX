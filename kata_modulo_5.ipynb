{
 "cells": [
  {
   "cell_type": "markdown",
   "metadata": {},
   "source": [
    "## Ejercicio1 - Utilizar operadores aritméticos\n"
   ]
  },
  {
   "cell_type": "code",
   "execution_count": 1,
   "metadata": {},
   "outputs": [
    {
     "name": "stdout",
     "output_type": "stream",
     "text": [
      "Distancia en km:  628949330\n",
      "Distancia en millas:  390577533\n"
     ]
    }
   ],
   "source": [
    "# Crear variables para almacenar las dos distancias\n",
    "jupiter = 778547200\n",
    "tierra = 149597870\n",
    "\n",
    "# Calcular la distancia entre planetas\n",
    "distancia_km = jupiter - tierra\n",
    "distancia_millas = int(distancia_km * 0.621)\n",
    "print('Distancia en km: ', distancia_km)\n",
    "print('Distancia en millas: ', distancia_millas)"
   ]
  },
  {
   "cell_type": "markdown",
   "metadata": {},
   "source": [
    "## Ejercicio 2: convierte cadenas en números y usa valores absolutos\n"
   ]
  },
  {
   "cell_type": "code",
   "execution_count": 6,
   "metadata": {},
   "outputs": [
    {
     "name": "stdout",
     "output_type": "stream",
     "text": [
      "Distancia del planeta 1: 57900000\n",
      "Distancia del planeta 2: 108200000\n",
      "Distancia en km: 50300000\n",
      "Distancia en millas: 31236300\n"
     ]
    }
   ],
   "source": [
    "# Almacenar las entradas del usuario\n",
    "planeta_1 = int(input(\"¿Cual es la distancia del sol al Planeta 1?\"))\n",
    "planeta_2 = int(input(\"¿Cual es la distancia del sol al Planeta 2?\"))\n",
    "\n",
    "print('Distancia del planeta 1:', planeta_1)\n",
    "print('Distancia del planeta 2:', planeta_2)\n",
    "\n",
    "# Realizar el cálculo y determinar el valor absoluto\n",
    "distancia_km = abs(planeta_1 - planeta_2) \n",
    "distancia_millas = int(distancia_km * 0.621)\n",
    "print('Distancia en km:', distancia_km)\n",
    "print('Distancia en millas:', distancia_millas)"
   ]
  }
 ],
 "metadata": {
  "interpreter": {
   "hash": "2757f2c2fa6babad547f4a3642c7cf29f9f98149abb7990afbb40d637e41adc8"
  },
  "kernelspec": {
   "display_name": "Python 3.9.7 ('base')",
   "language": "python",
   "name": "python3"
  },
  "language_info": {
   "codemirror_mode": {
    "name": "ipython",
    "version": 3
   },
   "file_extension": ".py",
   "mimetype": "text/x-python",
   "name": "python",
   "nbconvert_exporter": "python",
   "pygments_lexer": "ipython3",
   "version": "3.9.7"
  },
  "orig_nbformat": 4
 },
 "nbformat": 4,
 "nbformat_minor": 2
}
