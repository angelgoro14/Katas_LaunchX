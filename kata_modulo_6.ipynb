{
 "cells": [
  {
   "cell_type": "markdown",
   "metadata": {},
   "source": [
    "# Ejercicio 1: Crear y usar listas de Python\n"
   ]
  },
  {
   "cell_type": "code",
   "execution_count": 4,
   "metadata": {},
   "outputs": [
    {
     "name": "stdout",
     "output_type": "stream",
     "text": [
      "Numero de Planetas: 8\n",
      "-------------------------------------------------------------------------------------\n",
      "Planetas: ['Mercurio', 'Venus', 'Tierra', 'Marte', 'Jupyter', 'Saturno', 'Urano', 'Neptuno', 'Pluton']\n",
      "Numero de Planetas: 9\n",
      "Ultimo Planeta: Pluton\n"
     ]
    }
   ],
   "source": [
    "# Crea una variable denominada planets. Agrega los ocho planetas (sin Plutón) a la lista. \n",
    "planets = ['Mercurio', 'Venus', 'Tierra', 'Marte', 'Jupyter', 'Saturno', 'Urano', 'Neptuno']\n",
    "\n",
    "# A continuación, muestra el número de planetas.\n",
    "print('Numero de Planetas:', len(planets))\n",
    "\n",
    "print('-------------------------------------------------------------------------------------')\n",
    "\n",
    "# Agrega a Plutón a la lista que creaste\n",
    "planets.append('Pluton')\n",
    "print('Planetas:', planets)\n",
    "\n",
    "#  Luego muestra tanto el número de planetas como el último planeta de la lista.\n",
    "print('Numero de Planetas:', len(planets))\n",
    "print('Ultimo Planeta:', planets[8])\n",
    "\n"
   ]
  },
  {
   "cell_type": "markdown",
   "metadata": {},
   "source": [
    "# Ejercicio 2: Trabajando con datos de una lista\n"
   ]
  },
  {
   "cell_type": "code",
   "execution_count": 9,
   "metadata": {},
   "outputs": [
    {
     "name": "stdout",
     "output_type": "stream",
     "text": [
      "Planetas mas cercanos al sol que el elegido: ['Mercury', 'Venus', 'Earth']\n",
      "Planetas mas cercanos al sol que el elegido: ['Jupiter', 'Saturn', 'Neptune']\n"
     ]
    }
   ],
   "source": [
    "# Lista de planetas\n",
    "planets = ['Mercury', 'Venus', 'Earth', 'Mars', 'Jupiter', 'Saturn', 'Neptune']\n",
    "\n",
    "# Solicita al usuario el nombre de un planeta\n",
    "var1 = input('Dame el nombre de un planeta, escribiendo la primera letra con mayuscula y el resto con minusculas')\n",
    "\n",
    "# Busca el planeta en la lista\n",
    "var2 = planets.index(var1)\n",
    "\n",
    "\n",
    "# Mostrar planetas más cercanos al sol que el que el usuario ingresó\n",
    "var3 = planets[0:var2]\n",
    "print('Planetas mas cercanos al sol que el elegido:', var3)\n",
    "\n",
    "# Mostrar planetas más alejados del sol que el que el usuario ingresó\n",
    "var4 = planets[var2+1:]\n",
    "print('Planetas mas cercanos al sol que el elegido:', var4)\n",
    "\n"
   ]
  }
 ],
 "metadata": {
  "interpreter": {
   "hash": "2757f2c2fa6babad547f4a3642c7cf29f9f98149abb7990afbb40d637e41adc8"
  },
  "kernelspec": {
   "display_name": "Python 3.9.7 ('base')",
   "language": "python",
   "name": "python3"
  },
  "language_info": {
   "codemirror_mode": {
    "name": "ipython",
    "version": 3
   },
   "file_extension": ".py",
   "mimetype": "text/x-python",
   "name": "python",
   "nbconvert_exporter": "python",
   "pygments_lexer": "ipython3",
   "version": "3.9.7"
  },
  "orig_nbformat": 4
 },
 "nbformat": 4,
 "nbformat_minor": 2
}
